{
 "cells": [
  {
   "cell_type": "code",
   "execution_count": 1,
   "id": "2a5f7dcd",
   "metadata": {},
   "outputs": [
    {
     "name": "stdout",
     "output_type": "stream",
     "text": [
      "WARNING:tensorflow:From c:\\Users\\ashmi\\AppData\\Local\\Programs\\Python\\Python311\\Lib\\site-packages\\keras\\src\\losses.py:2976: The name tf.losses.sparse_softmax_cross_entropy is deprecated. Please use tf.compat.v1.losses.sparse_softmax_cross_entropy instead.\n",
      "\n"
     ]
    }
   ],
   "source": [
    "from keras.utils import to_categorical\n",
    "from keras_preprocessing.image import load_img\n",
    "from keras.models import Sequential\n",
    "from keras.layers import Dense,Conv2D, Dropout, Flatten, MaxPooling2D\n",
    "import tensorflow as tf"
   ]
  },
  {
   "cell_type": "code",
   "execution_count": 3,
   "id": "9f0e87c0-e8ab-45a5-bc1c-2650bfaa4496",
   "metadata": {},
   "outputs": [],
   "source": [
    "import os \n",
    "import pandas as pd \n",
    "import numpy as np"
   ]
  },
  {
   "cell_type": "code",
   "execution_count": 4,
   "id": "8015f503",
   "metadata": {},
   "outputs": [],
   "source": [
    "TRAIN_DIR = 'train'\n",
    "TEST_DIR = 'test'"
   ]
  },
  {
   "cell_type": "code",
   "execution_count": 5,
   "id": "6ac14519",
   "metadata": {},
   "outputs": [],
   "source": [
    "def createdataframe(dir):\n",
    "    image_paths = []\n",
    "    labels = []\n",
    "    for label in os.listdir(dir):\n",
    "        for imagename in os.listdir(os.path.join(dir, label)) :\n",
    "            image_paths.append(os.path.join(dir, label, imagename))\n",
    "            labels.append(label)\n",
    "        print(label, \"completed\")\n",
    "    return image_paths, labels"
   ]
  },
  {
   "cell_type": "code",
   "execution_count": 6,
   "id": "311c044d",
   "metadata": {},
   "outputs": [
    {
     "name": "stdout",
     "output_type": "stream",
     "text": [
      "angry completed\n",
      "disgust completed\n",
      "fear completed\n",
      "happy completed\n",
      "neutral completed\n",
      "sad completed\n",
      "surprise completed\n"
     ]
    }
   ],
   "source": [
    "train = pd.DataFrame()\n",
    "train['image'],train['label'] = createdataframe(TRAIN_DIR)"
   ]
  },
  {
   "cell_type": "code",
   "execution_count": 15,
   "id": "6f665a5f",
   "metadata": {},
   "outputs": [
    {
     "name": "stdout",
     "output_type": "stream",
     "text": [
      "                                      image     label\n",
      "0         train\\angry\\Training_10118481.jpg     angry\n",
      "1         train\\angry\\Training_10120469.jpg     angry\n",
      "2         train\\angry\\Training_10131352.jpg     angry\n",
      "3         train\\angry\\Training_10161559.jpg     angry\n",
      "4          train\\angry\\Training_1021836.jpg     angry\n",
      "...                                     ...       ...\n",
      "28704  train\\surprise\\Training_99916297.jpg  surprise\n",
      "28705  train\\surprise\\Training_99924420.jpg  surprise\n",
      "28706  train\\surprise\\Training_99937001.jpg  surprise\n",
      "28707  train\\surprise\\Training_99951755.jpg  surprise\n",
      "28708  train\\surprise\\Training_99984132.jpg  surprise\n",
      "\n",
      "[28709 rows x 2 columns]\n"
     ]
    }
   ],
   "source": [
    "print(train)"
   ]
  },
  {
   "cell_type": "code",
   "execution_count": 8,
   "id": "dc20a2d7",
   "metadata": {},
   "outputs": [
    {
     "name": "stdout",
     "output_type": "stream",
     "text": [
      "angry completed\n",
      "disgust completed\n",
      "fear completed\n",
      "happy completed\n",
      "neutral completed\n",
      "sad completed\n",
      "surprise completed\n"
     ]
    }
   ],
   "source": [
    "test = pd.DataFrame()\n",
    "test['image'],test['label'] = createdataframe(TEST_DIR)"
   ]
  },
  {
   "cell_type": "code",
   "execution_count": 9,
   "id": "145be8e7",
   "metadata": {},
   "outputs": [
    {
     "name": "stdout",
     "output_type": "stream",
     "text": [
      "                                      image     label\n",
      "0       test\\angry\\PrivateTest_10131363.jpg     angry\n",
      "1       test\\angry\\PrivateTest_10304478.jpg     angry\n",
      "2        test\\angry\\PrivateTest_1054527.jpg     angry\n",
      "3       test\\angry\\PrivateTest_10590091.jpg     angry\n",
      "4        test\\angry\\PrivateTest_1109992.jpg     angry\n",
      "...                                     ...       ...\n",
      "7173  test\\surprise\\PublicTest_98089595.jpg  surprise\n",
      "7174  test\\surprise\\PublicTest_98567249.jpg  surprise\n",
      "7175  test\\surprise\\PublicTest_98972870.jpg  surprise\n",
      "7176  test\\surprise\\PublicTest_99242645.jpg  surprise\n",
      "7177  test\\surprise\\PublicTest_99446963.jpg  surprise\n",
      "\n",
      "[7178 rows x 2 columns]\n"
     ]
    }
   ],
   "source": [
    "print(test)"
   ]
  },
  {
   "cell_type": "code",
   "execution_count": 10,
   "id": "6f89d117",
   "metadata": {},
   "outputs": [
    {
     "name": "stdout",
     "output_type": "stream",
     "text": [
      "                                      image     label\n",
      "0       test\\angry\\PrivateTest_10131363.jpg     angry\n",
      "1       test\\angry\\PrivateTest_10304478.jpg     angry\n",
      "2        test\\angry\\PrivateTest_1054527.jpg     angry\n",
      "3       test\\angry\\PrivateTest_10590091.jpg     angry\n",
      "4        test\\angry\\PrivateTest_1109992.jpg     angry\n",
      "...                                     ...       ...\n",
      "7173  test\\surprise\\PublicTest_98089595.jpg  surprise\n",
      "7174  test\\surprise\\PublicTest_98567249.jpg  surprise\n",
      "7175  test\\surprise\\PublicTest_98972870.jpg  surprise\n",
      "7176  test\\surprise\\PublicTest_99242645.jpg  surprise\n",
      "7177  test\\surprise\\PublicTest_99446963.jpg  surprise\n",
      "\n",
      "[7178 rows x 2 columns]\n",
      "0         test\\angry\\PrivateTest_10131363.jpg\n",
      "1         test\\angry\\PrivateTest_10304478.jpg\n",
      "2          test\\angry\\PrivateTest_1054527.jpg\n",
      "3         test\\angry\\PrivateTest_10590091.jpg\n",
      "4          test\\angry\\PrivateTest_1109992.jpg\n",
      "                        ...                  \n",
      "7173    test\\surprise\\PublicTest_98089595.jpg\n",
      "7174    test\\surprise\\PublicTest_98567249.jpg\n",
      "7175    test\\surprise\\PublicTest_98972870.jpg\n",
      "7176    test\\surprise\\PublicTest_99242645.jpg\n",
      "7177    test\\surprise\\PublicTest_99446963.jpg\n",
      "Name: image, Length: 7178, dtype: object\n"
     ]
    }
   ],
   "source": [
    "print(test)\n",
    "print(test['image'])"
   ]
  },
  {
   "cell_type": "code",
   "execution_count": 12,
   "id": "b55ee95f",
   "metadata": {},
   "outputs": [],
   "source": [
    "from keras.preprocessing.image import ImageDataGenerator\n",
    "\n",
    "datagen = ImageDataGenerator(\n",
    "    rotation_range=20,\n",
    "    width_shift_range=0.2,\n",
    "    height_shift_range=0.2,\n",
    "    shear_range=0.2,\n",
    "    zoom_range=0.2,\n",
    "    horizontal_flip=True,\n",
    "    fill_mode='nearest'\n",
    ")"
   ]
  },
  {
   "cell_type": "code",
   "execution_count": 13,
   "id": "1f64b109",
   "metadata": {},
   "outputs": [],
   "source": [
    "train_datagen = ImageDataGenerator(rescale=1./255)\n",
    "test_datagen = ImageDataGenerator(rescale=1./255)"
   ]
  },
  {
   "cell_type": "code",
   "execution_count": 14,
   "id": "f364e296",
   "metadata": {},
   "outputs": [
    {
     "name": "stderr",
     "output_type": "stream",
     "text": [
      "c:\\Users\\ashmi\\AppData\\Local\\Programs\\Python\\Python311\\Lib\\site-packages\\keras\\src\\preprocessing\\image.py:1451: UserWarning: This ImageDataGenerator specifies `zca_whitening` which overrides setting of`featurewise_std_normalization`.\n",
      "  warnings.warn(\n"
     ]
    }
   ],
   "source": [
    "datagen = ImageDataGenerator(\n",
    "    # ...\n",
    "    featurewise_center=True,\n",
    "    featurewise_std_normalization=True,\n",
    "    zca_whitening=True,\n",
    "    zca_epsilon=1e-06\n",
    ")"
   ]
  },
  {
   "cell_type": "code",
   "execution_count": 11,
   "id": "953b1dde-efd5-468e-b69d-2c82dfa88304",
   "metadata": {},
   "outputs": [],
   "source": [
    "from tqdm import tqdm"
   ]
  },
  {
   "cell_type": "code",
   "execution_count": 24,
   "id": "2192fb80",
   "metadata": {},
   "outputs": [],
   "source": [
    "def extract_features(images):\n",
    "    features = []\n",
    "    for image in tqdm(images):\n",
    "        img = load_img(image,grayscale = True)\n",
    "        img = np.array(img)\n",
    "        features.append(img)\n",
    "    features = np.array(features)\n",
    "    features = features.reshape(len(features),48,48,1)\n",
    "    return features"
   ]
  },
  {
   "cell_type": "code",
   "execution_count": 26,
   "id": "d0bce7a7",
   "metadata": {},
   "outputs": [
    {
     "name": "stderr",
     "output_type": "stream",
     "text": [
      "  0%|          | 0/28709 [00:00<?, ?it/s]c:\\Users\\ashmi\\AppData\\Local\\Programs\\Python\\Python311\\Lib\\site-packages\\keras_preprocessing\\image\\utils.py:107: UserWarning: grayscale is deprecated. Please use color_mode = \"grayscale\"\n",
      "  warnings.warn('grayscale is deprecated. Please use '\n",
      "100%|██████████| 28709/28709 [03:34<00:00, 133.57it/s]\n"
     ]
    }
   ],
   "source": [
    "train_features = extract_features(train['image'])"
   ]
  },
  {
   "cell_type": "code",
   "execution_count": 27,
   "id": "5cc77425-8085-4cff-9463-2e1de94dced9",
   "metadata": {},
   "outputs": [
    {
     "name": "stderr",
     "output_type": "stream",
     "text": [
      "100%|██████████| 7178/7178 [00:52<00:00, 136.40it/s]\n"
     ]
    }
   ],
   "source": [
    "test_features = extract_features(test['image'])"
   ]
  },
  {
   "cell_type": "code",
   "execution_count": 18,
   "id": "c8184436",
   "metadata": {},
   "outputs": [],
   "source": [
    "from keras_preprocessing.image.utils import load_img"
   ]
  },
  {
   "cell_type": "code",
   "execution_count": 28,
   "id": "bf2fd611",
   "metadata": {},
   "outputs": [],
   "source": [
    "from PIL import Image"
   ]
  },
  {
   "cell_type": "code",
   "execution_count": 29,
   "id": "1fa86841",
   "metadata": {},
   "outputs": [],
   "source": [
    "import cv2\n",
    "import numpy as np\n",
    "from tqdm import tqdm\n",
    "\n",
    "def extract_features(images):\n",
    "    features = []\n",
    "    for image_path in tqdm(images, desc=\"Extracting Features\"):\n",
    "        img = cv2.imread(image_path, cv2.IMREAD_GRAYSCALE)\n",
    "        features.append(img)\n",
    "    return features"
   ]
  },
  {
   "cell_type": "code",
   "execution_count": 30,
   "id": "17c18207",
   "metadata": {},
   "outputs": [],
   "source": [
    "import numpy as np"
   ]
  },
  {
   "cell_type": "code",
   "execution_count": 31,
   "id": "10c8bb14",
   "metadata": {},
   "outputs": [],
   "source": [
    "train_features = np.array(train_features)\n",
    "test_features = np.array(test_features)"
   ]
  },
  {
   "cell_type": "code",
   "execution_count": 32,
   "id": "b4c8c6c6",
   "metadata": {},
   "outputs": [],
   "source": [
    "x_train = train_features/255.0\n",
    "x_test = test_features/255.0"
   ]
  },
  {
   "cell_type": "code",
   "execution_count": 33,
   "id": "0960257f",
   "metadata": {},
   "outputs": [],
   "source": [
    "from sklearn.preprocessing import LabelEncoder"
   ]
  },
  {
   "cell_type": "code",
   "execution_count": 34,
   "id": "af4d9515",
   "metadata": {},
   "outputs": [
    {
     "data": {
      "text/html": [
       "<style>#sk-container-id-1 {color: black;}#sk-container-id-1 pre{padding: 0;}#sk-container-id-1 div.sk-toggleable {background-color: white;}#sk-container-id-1 label.sk-toggleable__label {cursor: pointer;display: block;width: 100%;margin-bottom: 0;padding: 0.3em;box-sizing: border-box;text-align: center;}#sk-container-id-1 label.sk-toggleable__label-arrow:before {content: \"▸\";float: left;margin-right: 0.25em;color: #696969;}#sk-container-id-1 label.sk-toggleable__label-arrow:hover:before {color: black;}#sk-container-id-1 div.sk-estimator:hover label.sk-toggleable__label-arrow:before {color: black;}#sk-container-id-1 div.sk-toggleable__content {max-height: 0;max-width: 0;overflow: hidden;text-align: left;background-color: #f0f8ff;}#sk-container-id-1 div.sk-toggleable__content pre {margin: 0.2em;color: black;border-radius: 0.25em;background-color: #f0f8ff;}#sk-container-id-1 input.sk-toggleable__control:checked~div.sk-toggleable__content {max-height: 200px;max-width: 100%;overflow: auto;}#sk-container-id-1 input.sk-toggleable__control:checked~label.sk-toggleable__label-arrow:before {content: \"▾\";}#sk-container-id-1 div.sk-estimator input.sk-toggleable__control:checked~label.sk-toggleable__label {background-color: #d4ebff;}#sk-container-id-1 div.sk-label input.sk-toggleable__control:checked~label.sk-toggleable__label {background-color: #d4ebff;}#sk-container-id-1 input.sk-hidden--visually {border: 0;clip: rect(1px 1px 1px 1px);clip: rect(1px, 1px, 1px, 1px);height: 1px;margin: -1px;overflow: hidden;padding: 0;position: absolute;width: 1px;}#sk-container-id-1 div.sk-estimator {font-family: monospace;background-color: #f0f8ff;border: 1px dotted black;border-radius: 0.25em;box-sizing: border-box;margin-bottom: 0.5em;}#sk-container-id-1 div.sk-estimator:hover {background-color: #d4ebff;}#sk-container-id-1 div.sk-parallel-item::after {content: \"\";width: 100%;border-bottom: 1px solid gray;flex-grow: 1;}#sk-container-id-1 div.sk-label:hover label.sk-toggleable__label {background-color: #d4ebff;}#sk-container-id-1 div.sk-serial::before {content: \"\";position: absolute;border-left: 1px solid gray;box-sizing: border-box;top: 0;bottom: 0;left: 50%;z-index: 0;}#sk-container-id-1 div.sk-serial {display: flex;flex-direction: column;align-items: center;background-color: white;padding-right: 0.2em;padding-left: 0.2em;position: relative;}#sk-container-id-1 div.sk-item {position: relative;z-index: 1;}#sk-container-id-1 div.sk-parallel {display: flex;align-items: stretch;justify-content: center;background-color: white;position: relative;}#sk-container-id-1 div.sk-item::before, #sk-container-id-1 div.sk-parallel-item::before {content: \"\";position: absolute;border-left: 1px solid gray;box-sizing: border-box;top: 0;bottom: 0;left: 50%;z-index: -1;}#sk-container-id-1 div.sk-parallel-item {display: flex;flex-direction: column;z-index: 1;position: relative;background-color: white;}#sk-container-id-1 div.sk-parallel-item:first-child::after {align-self: flex-end;width: 50%;}#sk-container-id-1 div.sk-parallel-item:last-child::after {align-self: flex-start;width: 50%;}#sk-container-id-1 div.sk-parallel-item:only-child::after {width: 0;}#sk-container-id-1 div.sk-dashed-wrapped {border: 1px dashed gray;margin: 0 0.4em 0.5em 0.4em;box-sizing: border-box;padding-bottom: 0.4em;background-color: white;}#sk-container-id-1 div.sk-label label {font-family: monospace;font-weight: bold;display: inline-block;line-height: 1.2em;}#sk-container-id-1 div.sk-label-container {text-align: center;}#sk-container-id-1 div.sk-container {/* jupyter's `normalize.less` sets `[hidden] { display: none; }` but bootstrap.min.css set `[hidden] { display: none !important; }` so we also need the `!important` here to be able to override the default hidden behavior on the sphinx rendered scikit-learn.org. See: https://github.com/scikit-learn/scikit-learn/issues/21755 */display: inline-block !important;position: relative;}#sk-container-id-1 div.sk-text-repr-fallback {display: none;}</style><div id=\"sk-container-id-1\" class=\"sk-top-container\"><div class=\"sk-text-repr-fallback\"><pre>LabelEncoder()</pre><b>In a Jupyter environment, please rerun this cell to show the HTML representation or trust the notebook. <br />On GitHub, the HTML representation is unable to render, please try loading this page with nbviewer.org.</b></div><div class=\"sk-container\" hidden><div class=\"sk-item\"><div class=\"sk-estimator sk-toggleable\"><input class=\"sk-toggleable__control sk-hidden--visually\" id=\"sk-estimator-id-1\" type=\"checkbox\" checked><label for=\"sk-estimator-id-1\" class=\"sk-toggleable__label sk-toggleable__label-arrow\">LabelEncoder</label><div class=\"sk-toggleable__content\"><pre>LabelEncoder()</pre></div></div></div></div></div>"
      ],
      "text/plain": [
       "LabelEncoder()"
      ]
     },
     "execution_count": 34,
     "metadata": {},
     "output_type": "execute_result"
    }
   ],
   "source": [
    "le = LabelEncoder()\n",
    "le.fit(train['label'])"
   ]
  },
  {
   "cell_type": "code",
   "execution_count": 35,
   "id": "e5a09403",
   "metadata": {},
   "outputs": [],
   "source": [
    "y_train = le.transform(train['label'])\n",
    "y_test = le.transform(test['label'])"
   ]
  },
  {
   "cell_type": "code",
   "execution_count": 36,
   "id": "ad68e941",
   "metadata": {},
   "outputs": [],
   "source": [
    "y_train = to_categorical(y_train,num_classes=7)\n",
    "y_test = to_categorical(y_test,num_classes=7)"
   ]
  },
  {
   "cell_type": "code",
   "execution_count": 37,
   "id": "5c8e9719",
   "metadata": {},
   "outputs": [
    {
     "data": {
      "text/plain": [
       "array([[[0.77647059],\n",
       "        [0.81176471],\n",
       "        [0.82745098],\n",
       "        ...,\n",
       "        [0.77254902],\n",
       "        [0.69803922],\n",
       "        [0.90588235]],\n",
       "\n",
       "       [[0.76078431],\n",
       "        [0.82352941],\n",
       "        [0.80784314],\n",
       "        ...,\n",
       "        [0.81176471],\n",
       "        [0.68235294],\n",
       "        [0.80392157]],\n",
       "\n",
       "       [[0.80392157],\n",
       "        [0.84705882],\n",
       "        [0.82352941],\n",
       "        ...,\n",
       "        [0.81176471],\n",
       "        [0.73333333],\n",
       "        [0.68235294]],\n",
       "\n",
       "       ...,\n",
       "\n",
       "       [[1.        ],\n",
       "        [1.        ],\n",
       "        [1.        ],\n",
       "        ...,\n",
       "        [0.5372549 ],\n",
       "        [0.58823529],\n",
       "        [0.50588235]],\n",
       "\n",
       "       [[1.        ],\n",
       "        [1.        ],\n",
       "        [1.        ],\n",
       "        ...,\n",
       "        [0.51372549],\n",
       "        [0.55294118],\n",
       "        [0.54901961]],\n",
       "\n",
       "       [[1.        ],\n",
       "        [1.        ],\n",
       "        [1.        ],\n",
       "        ...,\n",
       "        [0.53333333],\n",
       "        [0.50588235],\n",
       "        [0.57254902]]])"
      ]
     },
     "execution_count": 37,
     "metadata": {},
     "output_type": "execute_result"
    }
   ],
   "source": [
    "x_train[10]"
   ]
  },
  {
   "cell_type": "markdown",
   "id": "7b2bf752",
   "metadata": {},
   "source": [
    "# Model Building"
   ]
  },
  {
   "cell_type": "code",
   "execution_count": 19,
   "id": "549be951",
   "metadata": {},
   "outputs": [],
   "source": [
    "from tensorflow.keras.models import Sequential\n",
    "from tensorflow.keras.optimizers import Adam"
   ]
  },
  {
   "cell_type": "code",
   "execution_count": 20,
   "id": "fee54090",
   "metadata": {},
   "outputs": [
    {
     "name": "stdout",
     "output_type": "stream",
     "text": [
      "WARNING:tensorflow:From c:\\Users\\ashmi\\AppData\\Local\\Programs\\Python\\Python311\\Lib\\site-packages\\keras\\src\\backend.py:873: The name tf.get_default_graph is deprecated. Please use tf.compat.v1.get_default_graph instead.\n",
      "\n",
      "WARNING:tensorflow:From c:\\Users\\ashmi\\AppData\\Local\\Programs\\Python\\Python311\\Lib\\site-packages\\keras\\src\\layers\\pooling\\max_pooling2d.py:161: The name tf.nn.max_pool is deprecated. Please use tf.nn.max_pool2d instead.\n",
      "\n"
     ]
    },
    {
     "name": "stderr",
     "output_type": "stream",
     "text": [
      "WARNING:absl:`lr` is deprecated in Keras optimizer, please use `learning_rate` or use the legacy optimizer, e.g.,tf.keras.optimizers.legacy.Adam.\n"
     ]
    },
    {
     "name": "stdout",
     "output_type": "stream",
     "text": [
      "Model: \"sequential\"\n",
      "_________________________________________________________________\n",
      " Layer (type)                Output Shape              Param #   \n",
      "=================================================================\n",
      " conv2d (Conv2D)             (None, 46, 46, 128)       1280      \n",
      "                                                                 \n",
      " max_pooling2d (MaxPooling2  (None, 23, 23, 128)       0         \n",
      " D)                                                              \n",
      "                                                                 \n",
      " dropout (Dropout)           (None, 23, 23, 128)       0         \n",
      "                                                                 \n",
      " conv2d_1 (Conv2D)           (None, 21, 21, 256)       295168    \n",
      "                                                                 \n",
      " max_pooling2d_1 (MaxPoolin  (None, 10, 10, 256)       0         \n",
      " g2D)                                                            \n",
      "                                                                 \n",
      " dropout_1 (Dropout)         (None, 10, 10, 256)       0         \n",
      "                                                                 \n",
      " conv2d_2 (Conv2D)           (None, 8, 8, 512)         1180160   \n",
      "                                                                 \n",
      " max_pooling2d_2 (MaxPoolin  (None, 4, 4, 512)         0         \n",
      " g2D)                                                            \n",
      "                                                                 \n",
      " dropout_2 (Dropout)         (None, 4, 4, 512)         0         \n",
      "                                                                 \n",
      " conv2d_3 (Conv2D)           (None, 2, 2, 512)         2359808   \n",
      "                                                                 \n",
      " max_pooling2d_3 (MaxPoolin  (None, 1, 1, 512)         0         \n",
      " g2D)                                                            \n",
      "                                                                 \n",
      " dropout_3 (Dropout)         (None, 1, 1, 512)         0         \n",
      "                                                                 \n",
      " flatten (Flatten)           (None, 512)               0         \n",
      "                                                                 \n",
      " dense (Dense)               (None, 512)               262656    \n",
      "                                                                 \n",
      " dropout_4 (Dropout)         (None, 512)               0         \n",
      "                                                                 \n",
      " dense_1 (Dense)             (None, 256)               131328    \n",
      "                                                                 \n",
      " dropout_5 (Dropout)         (None, 256)               0         \n",
      "                                                                 \n",
      " dense_2 (Dense)             (None, 7)                 1799      \n",
      "                                                                 \n",
      "=================================================================\n",
      "Total params: 4232199 (16.14 MB)\n",
      "Trainable params: 4232199 (16.14 MB)\n",
      "Non-trainable params: 0 (0.00 Byte)\n",
      "_________________________________________________________________\n"
     ]
    }
   ],
   "source": [
    "model = Sequential()\n",
    "# Convolutional layer\n",
    "model.add(Conv2D(128,kernel_size=(3,3), activation='relu',input_shape=(48,48,1)))\n",
    "model.add(MaxPooling2D(pool_size=(2,2)))\n",
    "model.add(Dropout(0.4))\n",
    "\n",
    "model.add(Conv2D(256,kernel_size=(3,3), activation='relu'))\n",
    "model.add(MaxPooling2D(pool_size=(2,2)))\n",
    "model.add(Dropout(0.4))\n",
    "\n",
    "model.add(Conv2D(512,kernel_size=(3,3), activation='relu'))\n",
    "model.add(MaxPooling2D(pool_size=(2,2)))\n",
    "model.add(Dropout(0.4))\n",
    "\n",
    "model.add(Conv2D(512,kernel_size=(3,3), activation='relu'))\n",
    "model.add(MaxPooling2D(pool_size=(2,2)))\n",
    "model.add(Dropout(0.4))\n",
    "\n",
    "model.add(Flatten())\n",
    "\n",
    "# fully connected layers\n",
    "model.add(Dense(512, activation='relu'))\n",
    "model.add(Dropout(0.4))\n",
    "model.add(Dense(256, activation='relu'))\n",
    "model.add(Dropout(0.3))\n",
    "\n",
    "# output layer\n",
    "model.add(Dense(7, activation='softmax'))\n",
    "\n",
    "opt = Adam(lr= 0.0001)\n",
    "model.compile(optimizer=opt,loss='categorical_crossentropy', metrics=['accuracy'])\n",
    "model.summary()"
   ]
  },
  {
   "cell_type": "code",
   "execution_count": 28,
   "id": "64663b98",
   "metadata": {},
   "outputs": [
    {
     "name": "stdout",
     "output_type": "stream",
     "text": [
      "WARNING:tensorflow:From c:\\Users\\ashmi\\AppData\\Local\\Programs\\Python\\Python311\\Lib\\site-packages\\keras\\src\\optimizers\\__init__.py:309: The name tf.train.Optimizer is deprecated. Please use tf.compat.v1.train.Optimizer instead.\n",
      "\n"
     ]
    },
    {
     "name": "stderr",
     "output_type": "stream",
     "text": [
      "WARNING:tensorflow:From c:\\Users\\ashmi\\AppData\\Local\\Programs\\Python\\Python311\\Lib\\site-packages\\keras\\src\\optimizers\\__init__.py:309: The name tf.train.Optimizer is deprecated. Please use tf.compat.v1.train.Optimizer instead.\n",
      "\n"
     ]
    }
   ],
   "source": [
    "model.compile(optimizer='adam', loss='categorical_crossentropy',metrics='accuracy')"
   ]
  },
  {
   "cell_type": "code",
   "execution_count": 29,
   "id": "921f8b0d",
   "metadata": {},
   "outputs": [
    {
     "name": "stdout",
     "output_type": "stream",
     "text": [
      "Epoch 1/100\n",
      "WARNING:tensorflow:From c:\\Users\\ashmi\\AppData\\Local\\Programs\\Python\\Python311\\Lib\\site-packages\\keras\\src\\utils\\tf_utils.py:492: The name tf.ragged.RaggedTensorValue is deprecated. Please use tf.compat.v1.ragged.RaggedTensorValue instead.\n",
      "\n"
     ]
    },
    {
     "name": "stderr",
     "output_type": "stream",
     "text": [
      "WARNING:tensorflow:From c:\\Users\\ashmi\\AppData\\Local\\Programs\\Python\\Python311\\Lib\\site-packages\\keras\\src\\utils\\tf_utils.py:492: The name tf.ragged.RaggedTensorValue is deprecated. Please use tf.compat.v1.ragged.RaggedTensorValue instead.\n",
      "\n"
     ]
    },
    {
     "name": "stdout",
     "output_type": "stream",
     "text": [
      "WARNING:tensorflow:From c:\\Users\\ashmi\\AppData\\Local\\Programs\\Python\\Python311\\Lib\\site-packages\\keras\\src\\engine\\base_layer_utils.py:384: The name tf.executing_eagerly_outside_functions is deprecated. Please use tf.compat.v1.executing_eagerly_outside_functions instead.\n",
      "\n"
     ]
    },
    {
     "name": "stderr",
     "output_type": "stream",
     "text": [
      "WARNING:tensorflow:From c:\\Users\\ashmi\\AppData\\Local\\Programs\\Python\\Python311\\Lib\\site-packages\\keras\\src\\engine\\base_layer_utils.py:384: The name tf.executing_eagerly_outside_functions is deprecated. Please use tf.compat.v1.executing_eagerly_outside_functions instead.\n",
      "\n"
     ]
    },
    {
     "name": "stdout",
     "output_type": "stream",
     "text": [
      "225/225 [==============================] - 112s 488ms/step - loss: 1.8233 - accuracy: 0.2463 - val_loss: 1.8142 - val_accuracy: 0.2471\n",
      "Epoch 2/100\n",
      "225/225 [==============================] - 108s 479ms/step - loss: 1.8028 - accuracy: 0.2534 - val_loss: 1.7718 - val_accuracy: 0.2544\n",
      "Epoch 3/100\n",
      "225/225 [==============================] - 108s 479ms/step - loss: 1.7254 - accuracy: 0.2926 - val_loss: 1.6458 - val_accuracy: 0.3376\n",
      "Epoch 4/100\n",
      "225/225 [==============================] - 107s 475ms/step - loss: 1.6144 - accuracy: 0.3587 - val_loss: 1.4879 - val_accuracy: 0.4184\n",
      "Epoch 5/100\n",
      "225/225 [==============================] - 113s 501ms/step - loss: 1.5068 - accuracy: 0.4151 - val_loss: 1.3727 - val_accuracy: 0.4751\n",
      "Epoch 6/100\n",
      "225/225 [==============================] - 121s 539ms/step - loss: 1.4415 - accuracy: 0.4441 - val_loss: 1.3415 - val_accuracy: 0.4763\n",
      "Epoch 7/100\n",
      "225/225 [==============================] - 122s 544ms/step - loss: 1.4027 - accuracy: 0.4617 - val_loss: 1.3006 - val_accuracy: 0.4962\n",
      "Epoch 8/100\n",
      "225/225 [==============================] - 121s 537ms/step - loss: 1.3703 - accuracy: 0.4732 - val_loss: 1.2783 - val_accuracy: 0.5036\n",
      "Epoch 9/100\n",
      "225/225 [==============================] - 118s 523ms/step - loss: 1.3302 - accuracy: 0.4917 - val_loss: 1.2335 - val_accuracy: 0.5238\n",
      "Epoch 10/100\n",
      "225/225 [==============================] - 115s 510ms/step - loss: 1.3161 - accuracy: 0.4964 - val_loss: 1.2169 - val_accuracy: 0.5300\n",
      "Epoch 11/100\n",
      "225/225 [==============================] - 113s 504ms/step - loss: 1.2928 - accuracy: 0.5073 - val_loss: 1.2209 - val_accuracy: 0.5266\n",
      "Epoch 12/100\n",
      "225/225 [==============================] - 113s 501ms/step - loss: 1.2731 - accuracy: 0.5128 - val_loss: 1.1852 - val_accuracy: 0.5440\n",
      "Epoch 13/100\n",
      "225/225 [==============================] - 120s 532ms/step - loss: 1.2552 - accuracy: 0.5205 - val_loss: 1.1633 - val_accuracy: 0.5514\n",
      "Epoch 14/100\n",
      "225/225 [==============================] - 114s 506ms/step - loss: 1.2377 - accuracy: 0.5279 - val_loss: 1.1452 - val_accuracy: 0.5560\n",
      "Epoch 15/100\n",
      "225/225 [==============================] - 107s 473ms/step - loss: 1.2268 - accuracy: 0.5351 - val_loss: 1.1546 - val_accuracy: 0.5541\n",
      "Epoch 16/100\n",
      "225/225 [==============================] - 124s 549ms/step - loss: 1.2110 - accuracy: 0.5381 - val_loss: 1.1428 - val_accuracy: 0.5548\n",
      "Epoch 17/100\n",
      "225/225 [==============================] - 124s 550ms/step - loss: 1.1956 - accuracy: 0.5483 - val_loss: 1.1267 - val_accuracy: 0.5711\n",
      "Epoch 18/100\n",
      "225/225 [==============================] - 126s 561ms/step - loss: 1.1924 - accuracy: 0.5451 - val_loss: 1.1231 - val_accuracy: 0.5709\n",
      "Epoch 19/100\n",
      "225/225 [==============================] - 117s 520ms/step - loss: 1.1794 - accuracy: 0.5534 - val_loss: 1.1200 - val_accuracy: 0.5701\n",
      "Epoch 20/100\n",
      "225/225 [==============================] - 111s 495ms/step - loss: 1.1688 - accuracy: 0.5581 - val_loss: 1.1098 - val_accuracy: 0.5755\n",
      "Epoch 21/100\n",
      "225/225 [==============================] - 112s 497ms/step - loss: 1.1550 - accuracy: 0.5618 - val_loss: 1.1014 - val_accuracy: 0.5797\n",
      "Epoch 22/100\n",
      "225/225 [==============================] - 112s 496ms/step - loss: 1.1476 - accuracy: 0.5656 - val_loss: 1.0969 - val_accuracy: 0.5795\n",
      "Epoch 23/100\n",
      "225/225 [==============================] - 110s 491ms/step - loss: 1.1274 - accuracy: 0.5710 - val_loss: 1.0828 - val_accuracy: 0.5833\n",
      "Epoch 24/100\n",
      "225/225 [==============================] - 110s 491ms/step - loss: 1.1316 - accuracy: 0.5721 - val_loss: 1.0885 - val_accuracy: 0.5836\n",
      "Epoch 25/100\n",
      "225/225 [==============================] - 118s 524ms/step - loss: 1.1237 - accuracy: 0.5751 - val_loss: 1.0715 - val_accuracy: 0.5887\n",
      "Epoch 26/100\n",
      "225/225 [==============================] - 108s 479ms/step - loss: 1.1124 - accuracy: 0.5798 - val_loss: 1.0847 - val_accuracy: 0.5851\n",
      "Epoch 27/100\n",
      "225/225 [==============================] - 107s 475ms/step - loss: 1.1064 - accuracy: 0.5818 - val_loss: 1.0766 - val_accuracy: 0.5857\n",
      "Epoch 28/100\n",
      "225/225 [==============================] - 105s 467ms/step - loss: 1.0915 - accuracy: 0.5859 - val_loss: 1.0748 - val_accuracy: 0.5907\n",
      "Epoch 29/100\n",
      "225/225 [==============================] - 105s 465ms/step - loss: 1.0854 - accuracy: 0.5885 - val_loss: 1.0699 - val_accuracy: 0.5936\n",
      "Epoch 30/100\n",
      "225/225 [==============================] - 106s 471ms/step - loss: 1.0856 - accuracy: 0.5890 - val_loss: 1.0641 - val_accuracy: 0.5925\n",
      "Epoch 31/100\n",
      "225/225 [==============================] - 105s 465ms/step - loss: 1.0721 - accuracy: 0.5973 - val_loss: 1.0644 - val_accuracy: 0.5889\n",
      "Epoch 32/100\n",
      "225/225 [==============================] - 105s 466ms/step - loss: 1.0701 - accuracy: 0.5967 - val_loss: 1.0635 - val_accuracy: 0.5926\n",
      "Epoch 33/100\n",
      "225/225 [==============================] - 104s 464ms/step - loss: 1.0582 - accuracy: 0.6044 - val_loss: 1.0457 - val_accuracy: 0.5950\n",
      "Epoch 34/100\n",
      "225/225 [==============================] - 105s 466ms/step - loss: 1.0540 - accuracy: 0.6051 - val_loss: 1.0548 - val_accuracy: 0.5925\n",
      "Epoch 35/100\n",
      "225/225 [==============================] - 112s 497ms/step - loss: 1.0513 - accuracy: 0.6060 - val_loss: 1.0491 - val_accuracy: 0.5975\n",
      "Epoch 36/100\n",
      "225/225 [==============================] - 117s 518ms/step - loss: 1.0478 - accuracy: 0.6018 - val_loss: 1.0509 - val_accuracy: 0.5960\n",
      "Epoch 37/100\n",
      "225/225 [==============================] - 130s 578ms/step - loss: 1.0350 - accuracy: 0.6144 - val_loss: 1.0411 - val_accuracy: 0.6014\n",
      "Epoch 38/100\n",
      "225/225 [==============================] - 117s 519ms/step - loss: 1.0230 - accuracy: 0.6158 - val_loss: 1.0413 - val_accuracy: 0.6080\n",
      "Epoch 39/100\n",
      "225/225 [==============================] - 115s 511ms/step - loss: 1.0208 - accuracy: 0.6180 - val_loss: 1.0415 - val_accuracy: 0.6050\n",
      "Epoch 40/100\n",
      "225/225 [==============================] - 115s 510ms/step - loss: 1.0084 - accuracy: 0.6221 - val_loss: 1.0459 - val_accuracy: 0.6046\n",
      "Epoch 41/100\n",
      "225/225 [==============================] - 115s 512ms/step - loss: 1.0137 - accuracy: 0.6219 - val_loss: 1.0335 - val_accuracy: 0.6048\n",
      "Epoch 42/100\n",
      "225/225 [==============================] - 114s 507ms/step - loss: 1.0018 - accuracy: 0.6251 - val_loss: 1.0488 - val_accuracy: 0.6050\n",
      "Epoch 43/100\n",
      "225/225 [==============================] - 116s 515ms/step - loss: 0.9953 - accuracy: 0.6279 - val_loss: 1.0386 - val_accuracy: 0.6069\n",
      "Epoch 44/100\n",
      "225/225 [==============================] - 116s 516ms/step - loss: 0.9935 - accuracy: 0.6266 - val_loss: 1.0445 - val_accuracy: 0.6030\n",
      "Epoch 45/100\n",
      "225/225 [==============================] - 115s 513ms/step - loss: 0.9869 - accuracy: 0.6338 - val_loss: 1.0465 - val_accuracy: 0.6016\n",
      "Epoch 46/100\n",
      "225/225 [==============================] - 115s 512ms/step - loss: 0.9803 - accuracy: 0.6339 - val_loss: 1.0311 - val_accuracy: 0.6098\n",
      "Epoch 47/100\n",
      "225/225 [==============================] - 114s 509ms/step - loss: 0.9710 - accuracy: 0.6357 - val_loss: 1.0339 - val_accuracy: 0.6092\n",
      "Epoch 48/100\n",
      "225/225 [==============================] - 114s 508ms/step - loss: 0.9684 - accuracy: 0.6376 - val_loss: 1.0309 - val_accuracy: 0.6113\n",
      "Epoch 49/100\n",
      "225/225 [==============================] - 115s 511ms/step - loss: 0.9614 - accuracy: 0.6389 - val_loss: 1.0311 - val_accuracy: 0.6147\n",
      "Epoch 50/100\n",
      "225/225 [==============================] - 117s 519ms/step - loss: 0.9612 - accuracy: 0.6405 - val_loss: 1.0295 - val_accuracy: 0.6166\n",
      "Epoch 51/100\n",
      "225/225 [==============================] - 116s 516ms/step - loss: 0.9527 - accuracy: 0.6436 - val_loss: 1.0253 - val_accuracy: 0.6151\n",
      "Epoch 52/100\n",
      "225/225 [==============================] - 116s 516ms/step - loss: 0.9460 - accuracy: 0.6459 - val_loss: 1.0284 - val_accuracy: 0.6123\n",
      "Epoch 53/100\n",
      "225/225 [==============================] - 116s 515ms/step - loss: 0.9352 - accuracy: 0.6530 - val_loss: 1.0376 - val_accuracy: 0.6088\n",
      "Epoch 54/100\n",
      "225/225 [==============================] - 116s 515ms/step - loss: 0.9385 - accuracy: 0.6498 - val_loss: 1.0257 - val_accuracy: 0.6133\n",
      "Epoch 55/100\n",
      "225/225 [==============================] - 116s 514ms/step - loss: 0.9264 - accuracy: 0.6555 - val_loss: 1.0299 - val_accuracy: 0.6147\n",
      "Epoch 56/100\n",
      "225/225 [==============================] - 117s 522ms/step - loss: 0.9353 - accuracy: 0.6510 - val_loss: 1.0231 - val_accuracy: 0.6179\n",
      "Epoch 57/100\n",
      "225/225 [==============================] - 111s 492ms/step - loss: 0.9221 - accuracy: 0.6545 - val_loss: 1.0247 - val_accuracy: 0.6187\n",
      "Epoch 58/100\n",
      "225/225 [==============================] - 106s 470ms/step - loss: 0.9202 - accuracy: 0.6579 - val_loss: 1.0239 - val_accuracy: 0.6152\n",
      "Epoch 59/100\n",
      "225/225 [==============================] - 105s 468ms/step - loss: 0.9068 - accuracy: 0.6619 - val_loss: 1.0253 - val_accuracy: 0.6186\n",
      "Epoch 60/100\n",
      "225/225 [==============================] - 106s 469ms/step - loss: 0.9089 - accuracy: 0.6621 - val_loss: 1.0268 - val_accuracy: 0.6188\n",
      "Epoch 61/100\n",
      "225/225 [==============================] - 105s 468ms/step - loss: 0.9117 - accuracy: 0.6622 - val_loss: 1.0185 - val_accuracy: 0.6236\n",
      "Epoch 62/100\n",
      "225/225 [==============================] - 108s 478ms/step - loss: 0.8895 - accuracy: 0.6706 - val_loss: 1.0199 - val_accuracy: 0.6191\n",
      "Epoch 63/100\n",
      "225/225 [==============================] - 107s 477ms/step - loss: 0.8923 - accuracy: 0.6671 - val_loss: 1.0249 - val_accuracy: 0.6201\n",
      "Epoch 64/100\n",
      "225/225 [==============================] - 106s 472ms/step - loss: 0.8864 - accuracy: 0.6703 - val_loss: 1.0293 - val_accuracy: 0.6147\n",
      "Epoch 65/100\n",
      "225/225 [==============================] - 111s 493ms/step - loss: 0.8766 - accuracy: 0.6752 - val_loss: 1.0304 - val_accuracy: 0.6124\n",
      "Epoch 66/100\n",
      "225/225 [==============================] - 105s 469ms/step - loss: 0.8711 - accuracy: 0.6789 - val_loss: 1.0332 - val_accuracy: 0.6167\n",
      "Epoch 67/100\n",
      "225/225 [==============================] - 105s 468ms/step - loss: 0.8670 - accuracy: 0.6793 - val_loss: 1.0307 - val_accuracy: 0.6167\n",
      "Epoch 68/100\n",
      "225/225 [==============================] - 106s 471ms/step - loss: 0.8625 - accuracy: 0.6785 - val_loss: 1.0338 - val_accuracy: 0.6145\n",
      "Epoch 69/100\n",
      "225/225 [==============================] - 106s 469ms/step - loss: 0.8657 - accuracy: 0.6777 - val_loss: 1.0254 - val_accuracy: 0.6165\n",
      "Epoch 70/100\n",
      "225/225 [==============================] - 106s 471ms/step - loss: 0.8446 - accuracy: 0.6899 - val_loss: 1.0171 - val_accuracy: 0.6247\n",
      "Epoch 71/100\n",
      "225/225 [==============================] - 106s 473ms/step - loss: 0.8433 - accuracy: 0.6892 - val_loss: 1.0222 - val_accuracy: 0.6199\n",
      "Epoch 72/100\n",
      "225/225 [==============================] - 106s 471ms/step - loss: 0.8451 - accuracy: 0.6895 - val_loss: 1.0259 - val_accuracy: 0.6215\n",
      "Epoch 73/100\n",
      "225/225 [==============================] - 106s 471ms/step - loss: 0.8489 - accuracy: 0.6888 - val_loss: 1.0288 - val_accuracy: 0.6240\n",
      "Epoch 74/100\n",
      "225/225 [==============================] - 106s 469ms/step - loss: 0.8382 - accuracy: 0.6917 - val_loss: 1.0284 - val_accuracy: 0.6138\n",
      "Epoch 75/100\n",
      "225/225 [==============================] - 106s 472ms/step - loss: 0.8387 - accuracy: 0.6883 - val_loss: 1.0232 - val_accuracy: 0.6272\n",
      "Epoch 76/100\n",
      "225/225 [==============================] - 105s 468ms/step - loss: 0.8286 - accuracy: 0.6937 - val_loss: 1.0185 - val_accuracy: 0.6215\n",
      "Epoch 77/100\n",
      "225/225 [==============================] - 105s 469ms/step - loss: 0.8248 - accuracy: 0.6963 - val_loss: 1.0207 - val_accuracy: 0.6204\n",
      "Epoch 78/100\n",
      "225/225 [==============================] - 105s 466ms/step - loss: 0.8244 - accuracy: 0.6969 - val_loss: 1.0239 - val_accuracy: 0.6220\n",
      "Epoch 79/100\n",
      "225/225 [==============================] - 105s 469ms/step - loss: 0.8151 - accuracy: 0.6984 - val_loss: 1.0265 - val_accuracy: 0.6211\n",
      "Epoch 80/100\n",
      "225/225 [==============================] - 107s 474ms/step - loss: 0.8049 - accuracy: 0.7051 - val_loss: 1.0264 - val_accuracy: 0.6284\n",
      "Epoch 81/100\n",
      "225/225 [==============================] - 109s 483ms/step - loss: 0.8015 - accuracy: 0.7052 - val_loss: 1.0358 - val_accuracy: 0.6204\n",
      "Epoch 82/100\n",
      "225/225 [==============================] - 110s 488ms/step - loss: 0.8030 - accuracy: 0.7024 - val_loss: 1.0237 - val_accuracy: 0.6272\n",
      "Epoch 83/100\n",
      "225/225 [==============================] - 111s 494ms/step - loss: 0.8001 - accuracy: 0.7052 - val_loss: 1.0168 - val_accuracy: 0.6268\n",
      "Epoch 84/100\n",
      "225/225 [==============================] - 111s 495ms/step - loss: 0.7878 - accuracy: 0.7082 - val_loss: 1.0280 - val_accuracy: 0.6265\n",
      "Epoch 85/100\n",
      "225/225 [==============================] - 110s 488ms/step - loss: 0.7909 - accuracy: 0.7079 - val_loss: 1.0165 - val_accuracy: 0.6290\n",
      "Epoch 86/100\n",
      "225/225 [==============================] - 112s 499ms/step - loss: 0.7822 - accuracy: 0.7131 - val_loss: 1.0338 - val_accuracy: 0.6261\n",
      "Epoch 87/100\n",
      "225/225 [==============================] - 120s 532ms/step - loss: 0.7853 - accuracy: 0.7127 - val_loss: 1.0192 - val_accuracy: 0.6273\n",
      "Epoch 88/100\n",
      "225/225 [==============================] - 116s 514ms/step - loss: 0.7824 - accuracy: 0.7149 - val_loss: 1.0230 - val_accuracy: 0.6275\n",
      "Epoch 89/100\n",
      "225/225 [==============================] - 121s 536ms/step - loss: 0.7766 - accuracy: 0.7137 - val_loss: 1.0292 - val_accuracy: 0.6278\n",
      "Epoch 90/100\n",
      "225/225 [==============================] - 120s 532ms/step - loss: 0.7606 - accuracy: 0.7218 - val_loss: 1.0229 - val_accuracy: 0.6304\n",
      "Epoch 91/100\n",
      "225/225 [==============================] - 115s 509ms/step - loss: 0.7620 - accuracy: 0.7250 - val_loss: 1.0343 - val_accuracy: 0.6250\n",
      "Epoch 92/100\n",
      "225/225 [==============================] - 123s 545ms/step - loss: 0.7708 - accuracy: 0.7197 - val_loss: 1.0316 - val_accuracy: 0.6290\n",
      "Epoch 93/100\n",
      "225/225 [==============================] - 118s 524ms/step - loss: 0.7675 - accuracy: 0.7206 - val_loss: 1.0319 - val_accuracy: 0.6283\n",
      "Epoch 94/100\n",
      "225/225 [==============================] - 121s 537ms/step - loss: 0.7547 - accuracy: 0.7266 - val_loss: 1.0283 - val_accuracy: 0.6335\n",
      "Epoch 95/100\n",
      "225/225 [==============================] - 119s 531ms/step - loss: 0.7540 - accuracy: 0.7248 - val_loss: 1.0343 - val_accuracy: 0.6268\n",
      "Epoch 96/100\n",
      "225/225 [==============================] - 114s 505ms/step - loss: 0.7502 - accuracy: 0.7300 - val_loss: 1.0379 - val_accuracy: 0.6287\n",
      "Epoch 97/100\n",
      "225/225 [==============================] - 109s 484ms/step - loss: 0.7545 - accuracy: 0.7256 - val_loss: 1.0306 - val_accuracy: 0.6283\n",
      "Epoch 98/100\n",
      "225/225 [==============================] - 109s 483ms/step - loss: 0.7492 - accuracy: 0.7283 - val_loss: 1.0398 - val_accuracy: 0.6258\n",
      "Epoch 99/100\n",
      "225/225 [==============================] - 110s 487ms/step - loss: 0.7514 - accuracy: 0.7265 - val_loss: 1.0404 - val_accuracy: 0.6290\n",
      "Epoch 100/100\n",
      "225/225 [==============================] - 109s 486ms/step - loss: 0.7305 - accuracy: 0.7327 - val_loss: 1.0333 - val_accuracy: 0.6298\n"
     ]
    },
    {
     "data": {
      "text/plain": [
       "<keras.src.callbacks.History at 0x1912c606cd0>"
      ]
     },
     "execution_count": 29,
     "metadata": {},
     "output_type": "execute_result"
    }
   ],
   "source": [
    "model.fit(x= x_train,y = y_train,batch_size= 128,epochs=100, validation_data=(x_test, y_test))"
   ]
  },
  {
   "cell_type": "code",
   "execution_count": 36,
   "id": "5a9660d5",
   "metadata": {},
   "outputs": [
    {
     "name": "stdout",
     "output_type": "stream",
     "text": [
      "Epoch 1/100\n",
      "WARNING:tensorflow:From c:\\Users\\ashmi\\AppData\\Local\\Programs\\Python\\Python311\\Lib\\site-packages\\keras\\src\\utils\\tf_utils.py:492: The name tf.ragged.RaggedTensorValue is deprecated. Please use tf.compat.v1.ragged.RaggedTensorValue instead.\n",
      "\n"
     ]
    },
    {
     "name": "stderr",
     "output_type": "stream",
     "text": [
      "WARNING:tensorflow:From c:\\Users\\ashmi\\AppData\\Local\\Programs\\Python\\Python311\\Lib\\site-packages\\keras\\src\\utils\\tf_utils.py:492: The name tf.ragged.RaggedTensorValue is deprecated. Please use tf.compat.v1.ragged.RaggedTensorValue instead.\n",
      "\n"
     ]
    },
    {
     "name": "stdout",
     "output_type": "stream",
     "text": [
      "WARNING:tensorflow:From c:\\Users\\ashmi\\AppData\\Local\\Programs\\Python\\Python311\\Lib\\site-packages\\keras\\src\\engine\\base_layer_utils.py:384: The name tf.executing_eagerly_outside_functions is deprecated. Please use tf.compat.v1.executing_eagerly_outside_functions instead.\n",
      "\n"
     ]
    },
    {
     "name": "stderr",
     "output_type": "stream",
     "text": [
      "WARNING:tensorflow:From c:\\Users\\ashmi\\AppData\\Local\\Programs\\Python\\Python311\\Lib\\site-packages\\keras\\src\\engine\\base_layer_utils.py:384: The name tf.executing_eagerly_outside_functions is deprecated. Please use tf.compat.v1.executing_eagerly_outside_functions instead.\n",
      "\n"
     ]
    },
    {
     "name": "stdout",
     "output_type": "stream",
     "text": [
      "225/225 [==============================] - 116s 508ms/step - loss: 1.8227 - accuracy: 0.2473 - val_loss: 1.8177 - val_accuracy: 0.2471\n",
      "Epoch 2/100\n",
      "225/225 [==============================] - 109s 483ms/step - loss: 1.8017 - accuracy: 0.2537 - val_loss: 1.7771 - val_accuracy: 0.2523\n",
      "Epoch 3/100\n",
      "225/225 [==============================] - 119s 529ms/step - loss: 1.7271 - accuracy: 0.2911 - val_loss: 1.6460 - val_accuracy: 0.3461\n",
      "Epoch 4/100\n",
      "225/225 [==============================] - 117s 522ms/step - loss: 1.6172 - accuracy: 0.3579 - val_loss: 1.4963 - val_accuracy: 0.4164\n",
      "Epoch 5/100\n",
      "225/225 [==============================] - 116s 516ms/step - loss: 1.5130 - accuracy: 0.4141 - val_loss: 1.3980 - val_accuracy: 0.4570\n",
      "Epoch 6/100\n",
      "225/225 [==============================] - 97s 433ms/step - loss: 1.4443 - accuracy: 0.4430 - val_loss: 1.3373 - val_accuracy: 0.4742\n",
      "Epoch 7/100\n",
      "225/225 [==============================] - 96s 429ms/step - loss: 1.3990 - accuracy: 0.4629 - val_loss: 1.2815 - val_accuracy: 0.5059\n",
      "Epoch 8/100\n",
      "225/225 [==============================] - 99s 439ms/step - loss: 1.3661 - accuracy: 0.4750 - val_loss: 1.2606 - val_accuracy: 0.5149\n",
      "Epoch 9/100\n",
      "225/225 [==============================] - 125s 556ms/step - loss: 1.3381 - accuracy: 0.4858 - val_loss: 1.2409 - val_accuracy: 0.5176\n",
      "Epoch 10/100\n",
      "225/225 [==============================] - 124s 552ms/step - loss: 1.3206 - accuracy: 0.4974 - val_loss: 1.2030 - val_accuracy: 0.5371\n",
      "Epoch 11/100\n",
      "225/225 [==============================] - 101s 447ms/step - loss: 1.2872 - accuracy: 0.5095 - val_loss: 1.2007 - val_accuracy: 0.5352\n",
      "Epoch 12/100\n",
      "225/225 [==============================] - 100s 443ms/step - loss: 1.2715 - accuracy: 0.5179 - val_loss: 1.1798 - val_accuracy: 0.5485\n",
      "Epoch 13/100\n",
      "225/225 [==============================] - 99s 442ms/step - loss: 1.2572 - accuracy: 0.5235 - val_loss: 1.1577 - val_accuracy: 0.5561\n",
      "Epoch 14/100\n",
      "225/225 [==============================] - 100s 443ms/step - loss: 1.2402 - accuracy: 0.5289 - val_loss: 1.1528 - val_accuracy: 0.5564\n",
      "Epoch 15/100\n",
      "225/225 [==============================] - 100s 443ms/step - loss: 1.2225 - accuracy: 0.5324 - val_loss: 1.1431 - val_accuracy: 0.5548\n",
      "Epoch 16/100\n",
      "225/225 [==============================] - 1126s 5s/step - loss: 1.2154 - accuracy: 0.5369 - val_loss: 1.1327 - val_accuracy: 0.5683\n",
      "Epoch 17/100\n",
      "225/225 [==============================] - 147s 654ms/step - loss: 1.1936 - accuracy: 0.5479 - val_loss: 1.1254 - val_accuracy: 0.5685\n",
      "Epoch 18/100\n",
      "225/225 [==============================] - 130s 576ms/step - loss: 1.1875 - accuracy: 0.5476 - val_loss: 1.1279 - val_accuracy: 0.5669\n",
      "Epoch 19/100\n",
      "225/225 [==============================] - 130s 576ms/step - loss: 1.1800 - accuracy: 0.5568 - val_loss: 1.1149 - val_accuracy: 0.5717\n",
      "Epoch 20/100\n",
      "225/225 [==============================] - 106s 472ms/step - loss: 1.1650 - accuracy: 0.5585 - val_loss: 1.1073 - val_accuracy: 0.5756\n",
      "Epoch 21/100\n",
      "225/225 [==============================] - 122s 545ms/step - loss: 1.1635 - accuracy: 0.5598 - val_loss: 1.1038 - val_accuracy: 0.5800\n",
      "Epoch 22/100\n",
      "225/225 [==============================] - 121s 540ms/step - loss: 1.1486 - accuracy: 0.5646 - val_loss: 1.0948 - val_accuracy: 0.5882\n",
      "Epoch 23/100\n",
      "225/225 [==============================] - 126s 562ms/step - loss: 1.1374 - accuracy: 0.5717 - val_loss: 1.0880 - val_accuracy: 0.5823\n",
      "Epoch 24/100\n",
      "225/225 [==============================] - 115s 509ms/step - loss: 1.1282 - accuracy: 0.5766 - val_loss: 1.0813 - val_accuracy: 0.5854\n",
      "Epoch 25/100\n",
      "225/225 [==============================] - 110s 489ms/step - loss: 1.1221 - accuracy: 0.5716 - val_loss: 1.0963 - val_accuracy: 0.5826\n",
      "Epoch 26/100\n",
      "225/225 [==============================] - 113s 503ms/step - loss: 1.1138 - accuracy: 0.5788 - val_loss: 1.0768 - val_accuracy: 0.5860\n",
      "Epoch 27/100\n",
      "225/225 [==============================] - 111s 495ms/step - loss: 1.1152 - accuracy: 0.5829 - val_loss: 1.0775 - val_accuracy: 0.5872\n",
      "Epoch 28/100\n",
      "225/225 [==============================] - 111s 492ms/step - loss: 1.1005 - accuracy: 0.5823 - val_loss: 1.0712 - val_accuracy: 0.5932\n",
      "Epoch 29/100\n",
      "225/225 [==============================] - 114s 506ms/step - loss: 1.0930 - accuracy: 0.5878 - val_loss: 1.0688 - val_accuracy: 0.5882\n",
      "Epoch 30/100\n",
      "225/225 [==============================] - 110s 488ms/step - loss: 1.0832 - accuracy: 0.5917 - val_loss: 1.0699 - val_accuracy: 0.5922\n",
      "Epoch 31/100\n",
      "225/225 [==============================] - 113s 503ms/step - loss: 1.0808 - accuracy: 0.5901 - val_loss: 1.0567 - val_accuracy: 0.5956\n",
      "Epoch 32/100\n",
      "225/225 [==============================] - 114s 505ms/step - loss: 1.0697 - accuracy: 0.5954 - val_loss: 1.0560 - val_accuracy: 0.5975\n",
      "Epoch 33/100\n",
      "225/225 [==============================] - 113s 504ms/step - loss: 1.0655 - accuracy: 0.5981 - val_loss: 1.0446 - val_accuracy: 0.6032\n",
      "Epoch 34/100\n",
      "225/225 [==============================] - 110s 489ms/step - loss: 1.0597 - accuracy: 0.6008 - val_loss: 1.0459 - val_accuracy: 0.6010\n",
      "Epoch 35/100\n",
      "225/225 [==============================] - 117s 519ms/step - loss: 1.0470 - accuracy: 0.6055 - val_loss: 1.0429 - val_accuracy: 0.6003\n",
      "Epoch 36/100\n",
      "225/225 [==============================] - 150s 667ms/step - loss: 1.0432 - accuracy: 0.6092 - val_loss: 1.0538 - val_accuracy: 0.6027\n",
      "Epoch 37/100\n",
      "225/225 [==============================] - 150s 669ms/step - loss: 1.0408 - accuracy: 0.6100 - val_loss: 1.0539 - val_accuracy: 0.5991\n",
      "Epoch 38/100\n",
      "225/225 [==============================] - 114s 504ms/step - loss: 1.0373 - accuracy: 0.6105 - val_loss: 1.0449 - val_accuracy: 0.6041\n",
      "Epoch 39/100\n",
      "225/225 [==============================] - 133s 591ms/step - loss: 1.0307 - accuracy: 0.6120 - val_loss: 1.0414 - val_accuracy: 0.6087\n",
      "Epoch 40/100\n",
      "225/225 [==============================] - 122s 543ms/step - loss: 1.0191 - accuracy: 0.6192 - val_loss: 1.0383 - val_accuracy: 0.6002\n",
      "Epoch 41/100\n",
      "225/225 [==============================] - 98s 437ms/step - loss: 1.0160 - accuracy: 0.6189 - val_loss: 1.0323 - val_accuracy: 0.6110\n",
      "Epoch 42/100\n",
      "225/225 [==============================] - 103s 458ms/step - loss: 1.0080 - accuracy: 0.6206 - val_loss: 1.0346 - val_accuracy: 0.6095\n",
      "Epoch 43/100\n",
      "225/225 [==============================] - 104s 461ms/step - loss: 0.9948 - accuracy: 0.6264 - val_loss: 1.0321 - val_accuracy: 0.6124\n",
      "Epoch 44/100\n",
      "225/225 [==============================] - 132s 589ms/step - loss: 0.9909 - accuracy: 0.6289 - val_loss: 1.0322 - val_accuracy: 0.6116\n",
      "Epoch 45/100\n",
      "225/225 [==============================] - 135s 600ms/step - loss: 0.9880 - accuracy: 0.6310 - val_loss: 1.0371 - val_accuracy: 0.6101\n",
      "Epoch 46/100\n",
      "225/225 [==============================] - 139s 620ms/step - loss: 0.9843 - accuracy: 0.6300 - val_loss: 1.0370 - val_accuracy: 0.6087\n",
      "Epoch 47/100\n",
      "225/225 [==============================] - 103s 456ms/step - loss: 0.9747 - accuracy: 0.6347 - val_loss: 1.0388 - val_accuracy: 0.6098\n",
      "Epoch 48/100\n",
      "225/225 [==============================] - 118s 523ms/step - loss: 0.9736 - accuracy: 0.6369 - val_loss: 1.0269 - val_accuracy: 0.6148\n",
      "Epoch 49/100\n",
      "225/225 [==============================] - 143s 638ms/step - loss: 0.9609 - accuracy: 0.6382 - val_loss: 1.0261 - val_accuracy: 0.6117\n",
      "Epoch 50/100\n",
      "225/225 [==============================] - 117s 521ms/step - loss: 0.9649 - accuracy: 0.6416 - val_loss: 1.0304 - val_accuracy: 0.6137\n",
      "Epoch 51/100\n",
      "225/225 [==============================] - 109s 486ms/step - loss: 0.9598 - accuracy: 0.6415 - val_loss: 1.0196 - val_accuracy: 0.6147\n",
      "Epoch 52/100\n",
      "225/225 [==============================] - 115s 512ms/step - loss: 0.9447 - accuracy: 0.6457 - val_loss: 1.0328 - val_accuracy: 0.6149\n",
      "Epoch 53/100\n",
      "225/225 [==============================] - 122s 542ms/step - loss: 0.9419 - accuracy: 0.6515 - val_loss: 1.0270 - val_accuracy: 0.6165\n",
      "Epoch 54/100\n",
      "225/225 [==============================] - 110s 487ms/step - loss: 0.9367 - accuracy: 0.6515 - val_loss: 1.0173 - val_accuracy: 0.6234\n",
      "Epoch 55/100\n",
      "225/225 [==============================] - 115s 509ms/step - loss: 0.9413 - accuracy: 0.6484 - val_loss: 1.0285 - val_accuracy: 0.6188\n",
      "Epoch 56/100\n",
      "225/225 [==============================] - 106s 471ms/step - loss: 0.9233 - accuracy: 0.6543 - val_loss: 1.0321 - val_accuracy: 0.6226\n",
      "Epoch 57/100\n",
      "225/225 [==============================] - 110s 490ms/step - loss: 0.9188 - accuracy: 0.6570 - val_loss: 1.0250 - val_accuracy: 0.6209\n",
      "Epoch 58/100\n",
      "225/225 [==============================] - 105s 464ms/step - loss: 0.9196 - accuracy: 0.6586 - val_loss: 1.0240 - val_accuracy: 0.6186\n",
      "Epoch 59/100\n",
      "225/225 [==============================] - 118s 526ms/step - loss: 0.9164 - accuracy: 0.6589 - val_loss: 1.0293 - val_accuracy: 0.6140\n",
      "Epoch 60/100\n",
      "225/225 [==============================] - 130s 578ms/step - loss: 0.8964 - accuracy: 0.6666 - val_loss: 1.0254 - val_accuracy: 0.6162\n",
      "Epoch 61/100\n",
      "225/225 [==============================] - 137s 608ms/step - loss: 0.8982 - accuracy: 0.6699 - val_loss: 1.0111 - val_accuracy: 0.6268\n",
      "Epoch 62/100\n",
      "225/225 [==============================] - 136s 605ms/step - loss: 0.9004 - accuracy: 0.6650 - val_loss: 1.0303 - val_accuracy: 0.6155\n",
      "Epoch 63/100\n",
      "225/225 [==============================] - 133s 591ms/step - loss: 0.8962 - accuracy: 0.6688 - val_loss: 1.0154 - val_accuracy: 0.6241\n",
      "Epoch 64/100\n",
      "225/225 [==============================] - 133s 592ms/step - loss: 0.8847 - accuracy: 0.6714 - val_loss: 1.0318 - val_accuracy: 0.6177\n",
      "Epoch 65/100\n",
      "225/225 [==============================] - 124s 549ms/step - loss: 0.8857 - accuracy: 0.6710 - val_loss: 1.0322 - val_accuracy: 0.6195\n",
      "Epoch 66/100\n",
      "225/225 [==============================] - 139s 617ms/step - loss: 0.8788 - accuracy: 0.6726 - val_loss: 1.0264 - val_accuracy: 0.6194\n",
      "Epoch 67/100\n",
      "225/225 [==============================] - 132s 587ms/step - loss: 0.8747 - accuracy: 0.6735 - val_loss: 1.0174 - val_accuracy: 0.6252\n",
      "Epoch 68/100\n",
      "225/225 [==============================] - 139s 616ms/step - loss: 0.8714 - accuracy: 0.6801 - val_loss: 1.0228 - val_accuracy: 0.6212\n",
      "Epoch 69/100\n",
      "225/225 [==============================] - 138s 612ms/step - loss: 0.8634 - accuracy: 0.6819 - val_loss: 1.0134 - val_accuracy: 0.6232\n",
      "Epoch 70/100\n",
      "225/225 [==============================] - 116s 517ms/step - loss: 0.8515 - accuracy: 0.6865 - val_loss: 1.0180 - val_accuracy: 0.6279\n",
      "Epoch 71/100\n",
      "225/225 [==============================] - 146s 648ms/step - loss: 0.8474 - accuracy: 0.6865 - val_loss: 1.0192 - val_accuracy: 0.6247\n",
      "Epoch 72/100\n",
      "225/225 [==============================] - 150s 666ms/step - loss: 0.8448 - accuracy: 0.6877 - val_loss: 1.0286 - val_accuracy: 0.6195\n",
      "Epoch 73/100\n",
      "225/225 [==============================] - 151s 672ms/step - loss: 0.8503 - accuracy: 0.6851 - val_loss: 1.0173 - val_accuracy: 0.6279\n",
      "Epoch 74/100\n",
      "225/225 [==============================] - 150s 665ms/step - loss: 0.8387 - accuracy: 0.6893 - val_loss: 1.0375 - val_accuracy: 0.6209\n",
      "Epoch 75/100\n",
      "225/225 [==============================] - 120s 531ms/step - loss: 0.8397 - accuracy: 0.6906 - val_loss: 1.0214 - val_accuracy: 0.6264\n",
      "Epoch 76/100\n",
      "225/225 [==============================] - 127s 564ms/step - loss: 0.8281 - accuracy: 0.6966 - val_loss: 1.0328 - val_accuracy: 0.6176\n",
      "Epoch 77/100\n",
      "225/225 [==============================] - 146s 650ms/step - loss: 0.8274 - accuracy: 0.6946 - val_loss: 1.0209 - val_accuracy: 0.6223\n",
      "Epoch 78/100\n",
      "225/225 [==============================] - 148s 658ms/step - loss: 0.8199 - accuracy: 0.6978 - val_loss: 1.0158 - val_accuracy: 0.6219\n",
      "Epoch 79/100\n",
      "225/225 [==============================] - 126s 561ms/step - loss: 0.8258 - accuracy: 0.6945 - val_loss: 1.0273 - val_accuracy: 0.6258\n",
      "Epoch 80/100\n",
      "225/225 [==============================] - 111s 492ms/step - loss: 0.8166 - accuracy: 0.7009 - val_loss: 1.0210 - val_accuracy: 0.6208\n",
      "Epoch 81/100\n",
      "225/225 [==============================] - 126s 560ms/step - loss: 0.8092 - accuracy: 0.6998 - val_loss: 1.0226 - val_accuracy: 0.6259\n",
      "Epoch 82/100\n",
      "225/225 [==============================] - 113s 500ms/step - loss: 0.8009 - accuracy: 0.7086 - val_loss: 1.0293 - val_accuracy: 0.6206\n",
      "Epoch 83/100\n",
      "225/225 [==============================] - 124s 552ms/step - loss: 0.7945 - accuracy: 0.7075 - val_loss: 1.0145 - val_accuracy: 0.6255\n",
      "Epoch 84/100\n",
      "225/225 [==============================] - 140s 623ms/step - loss: 0.7927 - accuracy: 0.7112 - val_loss: 1.0236 - val_accuracy: 0.6262\n",
      "Epoch 85/100\n",
      "225/225 [==============================] - 143s 634ms/step - loss: 0.7837 - accuracy: 0.7134 - val_loss: 1.0329 - val_accuracy: 0.6307\n",
      "Epoch 86/100\n",
      "225/225 [==============================] - 144s 641ms/step - loss: 0.7884 - accuracy: 0.7112 - val_loss: 1.0310 - val_accuracy: 0.6318\n",
      "Epoch 87/100\n",
      "225/225 [==============================] - 122s 543ms/step - loss: 0.7857 - accuracy: 0.7118 - val_loss: 1.0240 - val_accuracy: 0.6303\n",
      "Epoch 88/100\n",
      "225/225 [==============================] - 116s 516ms/step - loss: 0.7763 - accuracy: 0.7164 - val_loss: 1.0166 - val_accuracy: 0.6314\n",
      "Epoch 89/100\n",
      "225/225 [==============================] - 143s 636ms/step - loss: 0.7816 - accuracy: 0.7152 - val_loss: 1.0188 - val_accuracy: 0.6279\n",
      "Epoch 90/100\n",
      "225/225 [==============================] - 150s 665ms/step - loss: 0.7640 - accuracy: 0.7195 - val_loss: 1.0254 - val_accuracy: 0.6233\n",
      "Epoch 91/100\n",
      "225/225 [==============================] - 149s 661ms/step - loss: 0.7650 - accuracy: 0.7199 - val_loss: 1.0142 - val_accuracy: 0.6365\n",
      "Epoch 92/100\n",
      "225/225 [==============================] - 147s 653ms/step - loss: 0.7682 - accuracy: 0.7195 - val_loss: 1.0279 - val_accuracy: 0.6265\n",
      "Epoch 93/100\n",
      "225/225 [==============================] - 132s 587ms/step - loss: 0.7557 - accuracy: 0.7260 - val_loss: 1.0237 - val_accuracy: 0.6209\n",
      "Epoch 94/100\n",
      "225/225 [==============================] - 135s 602ms/step - loss: 0.7575 - accuracy: 0.7238 - val_loss: 1.0278 - val_accuracy: 0.6291\n",
      "Epoch 95/100\n",
      "225/225 [==============================] - 128s 569ms/step - loss: 0.7566 - accuracy: 0.7246 - val_loss: 1.0299 - val_accuracy: 0.6312\n",
      "Epoch 96/100\n",
      "225/225 [==============================] - 111s 495ms/step - loss: 0.7505 - accuracy: 0.7296 - val_loss: 1.0298 - val_accuracy: 0.6261\n",
      "Epoch 97/100\n",
      "225/225 [==============================] - 112s 498ms/step - loss: 0.7497 - accuracy: 0.7285 - val_loss: 1.0172 - val_accuracy: 0.6353\n",
      "Epoch 98/100\n",
      "225/225 [==============================] - 109s 484ms/step - loss: 0.7436 - accuracy: 0.7326 - val_loss: 1.0294 - val_accuracy: 0.6297\n",
      "Epoch 99/100\n",
      "225/225 [==============================] - 108s 481ms/step - loss: 0.7420 - accuracy: 0.7320 - val_loss: 1.0322 - val_accuracy: 0.6259\n",
      "Epoch 100/100\n",
      "225/225 [==============================] - 109s 486ms/step - loss: 0.7438 - accuracy: 0.7326 - val_loss: 1.0261 - val_accuracy: 0.6336\n"
     ]
    },
    {
     "data": {
      "text/plain": [
       "<keras.src.callbacks.History at 0x25b9a50f110>"
      ]
     },
     "execution_count": 36,
     "metadata": {},
     "output_type": "execute_result"
    }
   ],
   "source": [
    "model.fit(x= x_train,y = y_train,batch_size= 128,epochs=100, validation_data=(x_test, y_test))"
   ]
  },
  {
   "cell_type": "code",
   "execution_count": 30,
   "id": "5816b30d",
   "metadata": {},
   "outputs": [],
   "source": [
    "from keras.models import model_from_json"
   ]
  },
  {
   "cell_type": "code",
   "execution_count": 40,
   "id": "d277ea40",
   "metadata": {},
   "outputs": [],
   "source": [
    "label = ['angry','disgust','fear','happy','neutral','sad','surprise']"
   ]
  },
  {
   "cell_type": "markdown",
   "id": "8b74ba76-5645-4b19-98eb-d7f759e64550",
   "metadata": {},
   "source": [
    "# predicting a model"
   ]
  },
  {
   "cell_type": "code",
   "execution_count": 38,
   "id": "749cce9e",
   "metadata": {},
   "outputs": [],
   "source": [
    "def ef(image):\n",
    "    img = load_img(image,grayscale =  True )\n",
    "    feature = np.array(img)\n",
    "    feature = feature.reshape(1,48,48,1)\n",
    "    return feature/255.0"
   ]
  },
  {
   "cell_type": "code",
   "execution_count": 41,
   "id": "9af6d172",
   "metadata": {},
   "outputs": [
    {
     "name": "stdout",
     "output_type": "stream",
     "text": [
      "original image is of sad\n",
      "1/1 [==============================] - 0s 31ms/step\n",
      "model prediction is  sad\n"
     ]
    }
   ],
   "source": [
    "image = 'train/sad/Training_400788.jpg'\n",
    "print(\"original image is of sad\")\n",
    "img = ef(image)\n",
    "pred = model.predict(img)\n",
    "pred_label = label[pred.argmax()]\n",
    "print(\"model prediction is \",pred_label)"
   ]
  },
  {
   "cell_type": "code",
   "execution_count": 42,
   "id": "9802bd93",
   "metadata": {},
   "outputs": [],
   "source": [
    "import matplotlib.pyplot as plot"
   ]
  },
  {
   "cell_type": "code",
   "execution_count": 43,
   "id": "5fac4e07",
   "metadata": {},
   "outputs": [
    {
     "name": "stdout",
     "output_type": "stream",
     "text": [
      "original image is of sad\n",
      "1/1 [==============================] - 0s 35ms/step\n",
      "model prediction is  sad\n"
     ]
    },
    {
     "name": "stderr",
     "output_type": "stream",
     "text": [
      "c:\\Users\\ashmi\\AppData\\Local\\Programs\\Python\\Python311\\Lib\\site-packages\\keras_preprocessing\\image\\utils.py:107: UserWarning: grayscale is deprecated. Please use color_mode = \"grayscale\"\n",
      "  warnings.warn('grayscale is deprecated. Please use '\n"
     ]
    },
    {
     "data": {
      "text/plain": [
       "<matplotlib.image.AxesImage at 0x191a39d55d0>"
      ]
     },
     "execution_count": 43,
     "metadata": {},
     "output_type": "execute_result"
    },
    {
     "data": {
      "image/png": "[encoded data removed]",
      "text/plain": [
       "<Figure size 640x480 with 1 Axes>"
      ]
     },
     "metadata": {},
     "output_type": "display_data"
    }
   ],
   "source": [
    "image = 'train/sad/Training_468124.jpg'\n",
    "print(\"original image is of sad\")\n",
    "img = ef(image)\n",
    "pred = model.predict(img)\n",
    "pred_label = label[pred.argmax()]\n",
    "print(\"model prediction is \",pred_label)\n",
    "plot.imshow(img.reshape(48,48),cmap='gray')"
   ]
  },
  {
   "cell_type": "code",
   "execution_count": 44,
   "id": "2016f01f-2b58-4dc3-957a-6aae891b07ba",
   "metadata": {},
   "outputs": [
    {
     "name": "stdout",
     "output_type": "stream",
     "text": [
      "original image is of surprise\n",
      "1/1 [==============================] - 0s 24ms/step\n",
      "model prediction is  surprise\n"
     ]
    }
   ],
   "source": [
    "image = 'train/surprise/Training_353184.jpg'\n",
    "print(\"original image is of surprise\")\n",
    "img = ef(image)\n",
    "pred = model.predict(img)\n",
    "pred_label = label[pred.argmax()]\n",
    "print(\"model prediction is \",pred_label)"
   ]
  },
  {
   "cell_type": "code",
   "execution_count": 45,
   "id": "ee873461-4142-40e8-90af-82ae09b16fef",
   "metadata": {},
   "outputs": [
    {
     "name": "stdout",
     "output_type": "stream",
     "text": [
      "original image is of disgust\n",
      "1/1 [==============================] - 0s 21ms/step\n",
      "model prediction is  disgust\n"
     ]
    }
   ],
   "source": [
    "image = 'train/disgust/Training_5459858.jpg'\n",
    "print(\"original image is of disgust\")\n",
    "img = ef(image)\n",
    "pred = model.predict(img)\n",
    "pred_label = label[pred.argmax()]\n",
    "print(\"model prediction is \",pred_label)"
   ]
  },
  {
   "cell_type": "code",
   "execution_count": 64,
   "id": "58584b58-1dae-42dc-8773-f40aa7ff92fc",
   "metadata": {},
   "outputs": [
    {
     "name": "stdout",
     "output_type": "stream",
     "text": [
      "original image is of angry\n",
      "1/1 [==============================] - 0s 20ms/step\n",
      "model prediction is  angry\n"
     ]
    },
    {
     "data": {
      "text/plain": [
       "<matplotlib.image.AxesImage at 0x1c2a283f150>"
      ]
     },
     "execution_count": 64,
     "metadata": {},
     "output_type": "execute_result"
    },
    {
     "data": {
      "image/png": "[encoded data removed]",
      "text/plain": [
       "<Figure size 640x480 with 1 Axes>"
      ]
     },
     "metadata": {},
     "output_type": "display_data"
    }
   ],
   "source": [
    "image = 'train/angry/Training_1329550.jpg'\n",
    "print(\"original image is of angry\")\n",
    "img = ef(image)\n",
    "pred = model.predict(img)\n",
    "pred_label = label[pred.argmax()]\n",
    "print(\"model prediction is \",pred_label)\n",
    "plot.imshow(img.reshape(48,48),cmap='gray')"
   ]
  },
  {
   "cell_type": "code",
   "execution_count": 46,
   "id": "ef0a80ea-8be7-4dc5-89b6-1a221cf75074",
   "metadata": {},
   "outputs": [
    {
     "name": "stdout",
     "output_type": "stream",
     "text": [
      "original image is of neutral\n",
      "1/1 [==============================] - 0s 25ms/step\n",
      "model prediction is  neutral\n"
     ]
    },
    {
     "data": {
      "text/plain": [
       "<matplotlib.image.AxesImage at 0x191a5f2bd10>"
      ]
     },
     "execution_count": 46,
     "metadata": {},
     "output_type": "execute_result"
    },
    {
     "data": {
      "image/png": "[encoded data removed]",
      "text/plain": [
       "<Figure size 640x480 with 1 Axes>"
      ]
     },
     "metadata": {},
     "output_type": "display_data"
    }
   ],
   "source": [
    "image = 'train/neutral/Training_431269.jpg'\n",
    "print(\"original image is of neutral\")\n",
    "img = ef(image)\n",
    "pred = model.predict(img)\n",
    "pred_label = label[pred.argmax()]\n",
    "print(\"model prediction is \",pred_label)\n",
    "plot.imshow(img.reshape(48,48),cmap='gray')"
   ]
  },
  {
   "cell_type": "code",
   "execution_count": 47,
   "id": "148e0a03-48e2-4482-835e-8c870fe559ef",
   "metadata": {},
   "outputs": [
    {
     "name": "stdout",
     "output_type": "stream",
     "text": [
      "original image is of fear\n",
      "1/1 [==============================] - 0s 22ms/step\n",
      "model prediction is  fear\n"
     ]
    }
   ],
   "source": [
    "image = 'train/fear/Training_545062.jpg'\n",
    "print(\"original image is of fear\")\n",
    "img = ef(image)\n",
    "pred = model.predict(img)\n",
    "pred_label = label[pred.argmax()]\n",
    "print(\"model prediction is \",pred_label)"
   ]
  },
  {
   "cell_type": "code",
   "execution_count": 48,
   "id": "733ac163-ce12-45a3-a52d-7b503d649e35",
   "metadata": {},
   "outputs": [],
   "source": [
    "import matplotlib.pyplot as plot\n",
    "%matplotlib inline"
   ]
  },
  {
   "cell_type": "code",
   "execution_count": 62,
   "id": "c0a0167a-1fa5-4711-acd7-9816208cc80a",
   "metadata": {},
   "outputs": [
    {
     "name": "stdout",
     "output_type": "stream",
     "text": [
      "original image is of fear\n",
      "1/1 [==============================] - 0s 10ms/step\n",
      "model prediction is  fear\n"
     ]
    },
    {
     "data": {
      "text/plain": [
       "<matplotlib.image.AxesImage at 0x1c2a2703cd0>"
      ]
     },
     "execution_count": 62,
     "metadata": {},
     "output_type": "execute_result"
    },
    {
     "data": {
      "image/png": "[encoded data removed]",
      "text/plain": [
       "<Figure size 640x480 with 1 Axes>"
      ]
     },
     "metadata": {},
     "output_type": "display_data"
    }
   ],
   "source": [
    "image = 'train/fear/Training_545062.jpg'\n",
    "print(\"original image is of fear\")\n",
    "img = ef(image)\n",
    "pred = model.predict(img)\n",
    "pred_label = label[pred.argmax()]\n",
    "print(\"model prediction is \",pred_label)\n",
    "plot.imshow(img.reshape(48,48),cmap='gray')"
   ]
  },
  {
   "cell_type": "markdown",
   "id": "e47debe1",
   "metadata": {},
   "source": [
    "# Fitting the model"
   ]
  },
  {
   "cell_type": "code",
   "execution_count": 31,
   "id": "e35b6fd9-0490-477a-a72f-b1979e20f566",
   "metadata": {},
   "outputs": [],
   "source": [
    "from keras.models import model_from_json"
   ]
  },
  {
   "cell_type": "code",
   "execution_count": 32,
   "id": "80551cd4-e667-4c0e-b879-376c336a646d",
   "metadata": {},
   "outputs": [
    {
     "name": "stderr",
     "output_type": "stream",
     "text": [
      "c:\\Users\\ashmi\\AppData\\Local\\Programs\\Python\\Python311\\Lib\\site-packages\\keras\\src\\engine\\training.py:3103: UserWarning: You are saving your model as an HDF5 file via `model.save()`. This file format is considered legacy. We recommend using instead the native Keras format, e.g. `model.save('my_model.keras')`.\n",
      "  saving_api.save_model(\n"
     ]
    }
   ],
   "source": [
    "model_json = model.to_json()\n",
    "with open(\"model.json\", \"w\") as json_file:\n",
    "    json_file.write(model_json)   \n",
    "model.save(\"model.h5\")"
   ]
  },
  {
   "cell_type": "code",
   "execution_count": 33,
   "id": "efb1506e",
   "metadata": {},
   "outputs": [],
   "source": [
    "(test_image, train_label), (test_image, test_label) = tf.keras.datasets.mnist.load_data()"
   ]
  },
  {
   "cell_type": "code",
   "execution_count": 34,
   "id": "dd3bec63-9be8-41ab-98b4-5f20ec9fcc92",
   "metadata": {},
   "outputs": [],
   "source": [
    "import tensorflow as tf"
   ]
  },
  {
   "cell_type": "code",
   "execution_count": 35,
   "id": "5a8607ec-eca1-43c0-98cc-12a55f7077d2",
   "metadata": {},
   "outputs": [],
   "source": [
    "model= tf.keras.models.load_model(\"model.h5\") "
   ]
  },
  {
   "cell_type": "code",
   "execution_count": 16,
   "id": "cd557070-63a8-4002-aaf7-3c63dbf19d97",
   "metadata": {},
   "outputs": [],
   "source": [
    "from sklearn.metrics import confusion_matrix, classification_report\n",
    "import seaborn as sns\n",
    "import matplotlib.pyplot as plt"
   ]
  },
  {
   "cell_type": "code",
   "execution_count": 38,
   "id": "1aa94d33",
   "metadata": {},
   "outputs": [
    {
     "name": "stdout",
     "output_type": "stream",
     "text": [
      "225/225 [==============================] - 8s 37ms/step\n"
     ]
    }
   ],
   "source": [
    "# Make predictions on the test set\n",
    "y_pred = model.predict(x_test)"
   ]
  },
  {
   "cell_type": "code",
   "execution_count": 39,
   "id": "380fff54",
   "metadata": {},
   "outputs": [],
   "source": [
    "# Convert one-hot encoded labels back to original labels\n",
    "y_pred_classes = np.argmax(y_pred, axis=1)\n",
    "y_true_classes = np.argmax(y_test, axis=1)"
   ]
  },
  {
   "cell_type": "code",
   "execution_count": 40,
   "id": "1e2f1951",
   "metadata": {},
   "outputs": [],
   "source": [
    "# Generate confusion matrix\n",
    "conf_matrix = confusion_matrix(y_true_classes, y_pred_classes)"
   ]
  },
  {
   "cell_type": "code",
   "execution_count": 41,
   "id": "fc470868",
   "metadata": {},
   "outputs": [
    {
     "name": "stdout",
     "output_type": "stream",
     "text": [
      "Confusion Matrix:\n",
      "[[ 957    1    0    0    0    0    0]\n",
      " [ 111    0    0    0    0    0    0]\n",
      " [1024    0    0    0    0    0    0]\n",
      " [1773    1    0    0    0    0    0]\n",
      " [1232    1    0    0    0    0    0]\n",
      " [1245    2    0    0    0    0    0]\n",
      " [ 831    0    0    0    0    0    0]]\n"
     ]
    }
   ],
   "source": [
    "# Display the confusion matrix\n",
    "print(\"Confusion Matrix:\")\n",
    "print(conf_matrix)"
   ]
  },
  {
   "cell_type": "markdown",
   "id": "62b2d066",
   "metadata": {},
   "source": []
  },
  {
   "cell_type": "code",
   "execution_count": null,
   "id": "59145761",
   "metadata": {},
   "outputs": [],
   "source": []
  }
 ],
 "metadata": {
  "kernelspec": {
   "display_name": "Python 3 (ipykernel)",
   "language": "python",
   "name": "python3"
  },
  "language_info": {
   "codemirror_mode": {
    "name": "ipython",
    "version": 3
   },
   "file_extension": ".py",
   "mimetype": "text/x-python",
   "name": "python",
   "nbconvert_exporter": "python",
   "pygments_lexer": "ipython3",
   "version": "3.11.5"
  }
 },
 "nbformat": 4,
 "nbformat_minor": 5
}
